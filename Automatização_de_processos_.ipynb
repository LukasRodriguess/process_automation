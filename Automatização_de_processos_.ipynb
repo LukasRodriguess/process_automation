{
  "nbformat": 4,
  "nbformat_minor": 0,
  "metadata": {
    "colab": {
      "provenance": [],
      "collapsed_sections": [
        "3s4CDUAVccVo",
        "5Y2vkcHcrjsP"
      ],
      "authorship_tag": "ABX9TyPTzMQfZT3iPSS6YHN1x+vF",
      "include_colab_link": true
    },
    "kernelspec": {
      "name": "python3",
      "display_name": "Python 3"
    },
    "language_info": {
      "name": "python"
    }
  },
  "cells": [
    {
      "cell_type": "markdown",
      "metadata": {
        "id": "view-in-github",
        "colab_type": "text"
      },
      "source": [
        "<a href=\"https://colab.research.google.com/github/LukasRodriguess/process_automation/blob/main/Automatiza%C3%A7%C3%A3o_de_processos_.ipynb\" target=\"_parent\"><img src=\"https://colab.research.google.com/assets/colab-badge.svg\" alt=\"Open In Colab\"/></a>"
      ]
    },
    {
      "cell_type": "markdown",
      "source": [
        "# Automatização de processos\n",
        "\n",
        "---\n",
        "\n",
        "A ideia desse projeto é tornar operacional um processo antes executado manualmente,  utilizando para isso da tecnologia e da integração de sistemas e dados.\n",
        "\n",
        "Estarei utilizando Python, Requets, SQLite\n",
        "\n",
        "\n",
        "Coisas para melhorar no projeto:\n",
        "\n",
        "\n",
        "1.   Adicionar ID automatico\n",
        "2.   ajustar end e start routine para no final da execução sair só o tempo sem a data\n",
        "3. passar todo o projeto para inglês\n",
        "4. buscar melhorias e implementações\n",
        "\n",
        "\n"
      ],
      "metadata": {
        "id": "mE_azZBMbzbq"
      }
    },
    {
      "cell_type": "markdown",
      "source": [
        "##### Libraries ↓"
      ],
      "metadata": {
        "id": "3s4CDUAVccVo"
      }
    },
    {
      "cell_type": "code",
      "execution_count": 1,
      "metadata": {
        "id": "ySFzC0Libs3e"
      },
      "outputs": [],
      "source": [
        "from datetime import datetime\n",
        "import pandas as pd\n",
        "import matplotlib.pyplot as plt\n",
        "import pandas_datareader.data as pdr\n",
        "import yfinance as yf #API Yahoo finance\n",
        "\n",
        "import sqlite3\n",
        "\n",
        "#libs for the operating system ↓\n",
        "import os\n",
        "import platform\n",
        "#import win32com.client as win32\n",
        "\n",
        "#libs for connection ↓\n",
        "import requests\n",
        "import socket\n",
        "\n",
        "#libs to ignore warnings ↓\n",
        "import warnings\n",
        "warnings.filterwarnings('ignore')\n",
        "\n"
      ]
    },
    {
      "cell_type": "markdown",
      "source": [
        "#####Rotinas Iniciais"
      ],
      "metadata": {
        "id": "4HPjujmzciwc"
      }
    },
    {
      "cell_type": "code",
      "source": [
        "routine_id = 1\n",
        "routine_name = 'Fluxo de dados - Corretora'\n",
        "\n",
        "#Identify user information\n",
        "def identify_user():\n",
        "  user = os.environ.get('USERNAME') #Catch user name\n",
        "  machine = platform.node() #Catch machine name\n",
        "  operating_system = platform.platform() #Catch operating System\n",
        "\n",
        "  return (user, machine, operating_system)\n",
        "\n",
        "#---------------------------------------------------------------------------------\n",
        "#Identify the beginning of the routine\n",
        "def start_routine():\n",
        "  date_start = datetime.today().date()\n",
        "  hour_start = datetime.now()\n",
        "\n",
        "  return (date_start, hour_start)\n",
        "\n",
        "#---------------------------------------------------------------------------------\n",
        "#identify the end of the routine\n",
        "def end_routine():\n",
        "  date_end = datetime.today().date()\n",
        "  hour_end = datetime.now()\n",
        "\n",
        "  return (date_end, hour_end)\n",
        "\n",
        "#---------------------------------------------------------------------------------\n",
        "def temp_exe():\n",
        "    calc = list_end[1] - list_start[1]\n",
        "    # Convert timedelta to datetime\n",
        "    calc_datetime = datetime.datetime(1, 1, 1) + calc\n",
        "\n",
        "    # Format the datetime object\n",
        "    hour_min_sec = calc_datetime.strftime(\"%H:%M:%S\")\n",
        "\n",
        "    return hour_min_sec\n",
        "\n",
        "#---------------------------------------------------------------------------------\n",
        "def check_connection():\n",
        "  URL = \"https://www.google.com\"\n",
        "\n",
        "  time_out = 5\n",
        "  try:\n",
        "    requests.get(URL, timeout=time_out)\n",
        "    return True\n",
        "\n",
        "  except:\n",
        "    return False\n",
        "\n",
        "#---------------------------------------------------------------------------------\n",
        "def identify_ip():\n",
        "  try:\n",
        "    local_ip = socket.gethostbyname(socket.gethostname())\n",
        "    return local_ip\n",
        "  except:\n",
        "    return False\n",
        "\n",
        "\n",
        "#---------------------------------------------------------------------------------\n",
        "# Gerando os parametros\n",
        "list_user = identify_user()\n",
        "list_start = start_routine()\n",
        "connection_net = check_connection()\n",
        "check_ip = identify_ip()\n",
        "\n",
        "# Colocar todos os erros que acontecer nosso processo\n",
        "operational_error = ''"
      ],
      "metadata": {
        "id": "A8Ar2T6Fe6Il"
      },
      "execution_count": 12,
      "outputs": []
    },
    {
      "cell_type": "markdown",
      "source": [
        "#####Operacional"
      ],
      "metadata": {
        "id": "dq5ElWktDKhj"
      }
    },
    {
      "cell_type": "code",
      "source": [
        "try:\n",
        "  yf.pdr_override() #core\n",
        "  data_base = pdr.get_data_yahoo('ARZZ3.SA', start='2024-01-01') #get data\n",
        "  eixo_plot = data_base['Close']\n",
        "\n",
        "  #Configurando grafico ↓\n",
        "  plt.figure( figsize=(15,6) ) #tamanho\n",
        "  plt.style.use('ggplot') #estilo\n",
        "\n",
        "  plt.plot(eixo_plot) #plot do grafico\n",
        "\n",
        "  #labels e titulos ↓\n",
        "  plt.title(\"Analise Arezzo\") #title\n",
        "  plt.xlabel('Periodo') #Eixo X\n",
        "  plt.ylabel('Preço fechamento')#Eixo y\n",
        "\n",
        "  plt.savefig('Indicador_Ações.png') #salvando grafico em png\n",
        "\n",
        "except:\n",
        "  operational_error = 'Execution_Error'\n",
        "\n",
        "# Termino da Rotina\n",
        "list_end = end_routine()"
      ],
      "metadata": {
        "id": "dTDEZw1KzDHn"
      },
      "execution_count": null,
      "outputs": []
    },
    {
      "cell_type": "markdown",
      "source": [
        "##### Organização"
      ],
      "metadata": {
        "id": "qtq3Gpv7DV8h"
      }
    },
    {
      "cell_type": "code",
      "source": [
        "# Organização\n",
        "dictionary = {\n",
        "    'Id_Routine': routine_id,\n",
        "    'Name_Routine': routine_name,\n",
        "    'User': list_user[0],\n",
        "    'Machine': list_user[1],\n",
        "    'Operation_System': list_user[2],\n",
        "    'Date_Start': list_start[0],\n",
        "    'Hour_Start': list_start[1],\n",
        "    'Try_connection': connection_net,\n",
        "    'Local_Ip': check_ip,\n",
        "    'Date_end': list_end[0],\n",
        "    'Hour_end': list_end[1],\n",
        "    'Timex_Ex': list_end[1] - list_start[1],\n",
        "    'Error': operational_error\n",
        "}\n",
        "\n",
        "#log table\n",
        "log_table = pd.DataFrame(dictionary, index=[0])\n",
        "\n",
        "\n",
        "#Connect Data Base ↓\n",
        "conn_db = sqlite3.connect('DataBase.db')\n",
        "cursor = conn_db.cursor()\n",
        "\n",
        "log_table.to_sql(\n",
        "\n",
        "    #Nome da  tabela\n",
        "    'process_table',\n",
        "\n",
        "    #conexão do banco\n",
        "    conn_db,\n",
        "\n",
        "    #se a tabela existe\n",
        "    if_exists='append',\n",
        "\n",
        "    #ignorar o index para nao dar conflito com o index do pandas\n",
        "    index=False\n",
        ")\n"
      ],
      "metadata": {
        "id": "k2oKpVxe636G"
      },
      "execution_count": null,
      "outputs": []
    },
    {
      "cell_type": "code",
      "source": [
        "pd.read_sql('SELECT * FROM process_table', conn_db)"
      ],
      "metadata": {
        "id": "sBx_dIXi66NQ"
      },
      "execution_count": null,
      "outputs": []
    },
    {
      "cell_type": "code",
      "source": [
        "conn_db.close()"
      ],
      "metadata": {
        "id": "AhoDGmFJ0Dyo"
      },
      "execution_count": 7,
      "outputs": []
    },
    {
      "cell_type": "markdown",
      "source": [
        "#Glossary"
      ],
      "metadata": {
        "id": "5Y2vkcHcrjsP"
      }
    },
    {
      "cell_type": "markdown",
      "source": [
        "yf.pdr_override() #pesquisar sobre\n",
        "\n",
        "\n",
        "\n",
        "\n",
        "\n",
        "```\n",
        "#Codigo utilizado para criar o banco e sua tabela de registro ↓\n",
        "\n",
        "import sqlite3\n",
        "conn_db = sqlite3.connect('DataBase.db')\n",
        "cursor = conn_db.cursor()\n",
        "\n",
        "cursor.execute(\"\"\"\n",
        "CREATE TABLE process_table (\n",
        "    Id_Routine TEXT,\n",
        "    Name_Routine TEXT,\n",
        "    User TEXT,\n",
        "    Machine TEXT,\n",
        "    Operation_System TEXT,\n",
        "    Date_Start TEXT,\n",
        "    Hour_Start TEXT,\n",
        "    Try_connection TEXT,\n",
        "    Local_Ip TEXT,\n",
        "    Date_end TEXT,\n",
        "    Hour_end TEXT,\n",
        "    Timex_Ex TEXT,\n",
        "    Error TEXT\n",
        ")\n",
        "\"\"\")\n",
        "conn_db.commit()\n",
        "conn_db.close()\n",
        "```\n",
        "\n"
      ],
      "metadata": {
        "id": "3BissnQ8rmkj"
      }
    }
  ]
}
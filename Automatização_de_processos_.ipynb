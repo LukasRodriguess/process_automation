{
  "nbformat": 4,
  "nbformat_minor": 0,
  "metadata": {
    "colab": {
      "provenance": [],
      "authorship_tag": "ABX9TyM0/J2RopG2GzdodoZuiEsA",
      "include_colab_link": true
    },
    "kernelspec": {
      "name": "python3",
      "display_name": "Python 3"
    },
    "language_info": {
      "name": "python"
    }
  },
  "cells": [
    {
      "cell_type": "markdown",
      "metadata": {
        "id": "view-in-github",
        "colab_type": "text"
      },
      "source": [
        "<a href=\"https://colab.research.google.com/github/LukasRodriguess/process_automation/blob/main/Automatiza%C3%A7%C3%A3o_de_processos_.ipynb\" target=\"_parent\"><img src=\"https://colab.research.google.com/assets/colab-badge.svg\" alt=\"Open In Colab\"/></a>"
      ]
    },
    {
      "cell_type": "markdown",
      "source": [
        "# Automatização de processos\n",
        "\n",
        "---\n",
        "\n",
        "A ideia desse projeto é tornar operacional um processo antes executado manualmente,  utilizando para isso da tecnologia e da integração de sistemas e dados.\n",
        "\n",
        "Estarei utilizando Python, Requets, SQLite\n",
        "\n"
      ],
      "metadata": {
        "id": "mE_azZBMbzbq"
      }
    },
    {
      "cell_type": "markdown",
      "source": [
        "##### Libraries ↓"
      ],
      "metadata": {
        "id": "3s4CDUAVccVo"
      }
    },
    {
      "cell_type": "code",
      "execution_count": 1,
      "metadata": {
        "id": "ySFzC0Libs3e"
      },
      "outputs": [],
      "source": [
        "from datetime import datetime\n",
        "import pandas as pd\n",
        "import matplotlib.pyplot as plt\n",
        "import pandas_datareader.data as web\n",
        "import yfinance as yf #API Yahoo finance\n",
        "\n",
        "#libs for the operating system ↓\n",
        "import os\n",
        "import platform\n",
        "#import win32com.client as win32\n",
        "\n",
        "#libs for connection ↓\n",
        "import requests\n",
        "import socket\n",
        "\n",
        "#libs to ignore warnings ↓\n",
        "import warnings\n",
        "warnings.filterwarnings('ignore')\n",
        "\n"
      ]
    },
    {
      "cell_type": "markdown",
      "source": [
        "#####Rotinas Iniciais"
      ],
      "metadata": {
        "id": "4HPjujmzciwc"
      }
    },
    {
      "cell_type": "code",
      "source": [
        "routine_id = 1\n",
        "routine_name = 'Fluxo de dados - Corretora'\n",
        "\n",
        "#Identify user information\n",
        "def identify_user():\n",
        "  user = os.environ.get('USERNAME') #Catch user name\n",
        "  machine = platform.node() #Catch machine name\n",
        "  operating_system = platform.platform() #Catch operating System\n",
        "\n",
        "  return (user, machine, operating_system)\n",
        "\n",
        "#---------------------------------------------------------------------------------\n",
        "#Identify the beginning of the routine\n",
        "def start_routine():\n",
        "  date_start = datetime.today().date()\n",
        "  hour_start = datetime.now()\n",
        "\n",
        "  return (date_start, hour_start)\n",
        "\n",
        "#---------------------------------------------------------------------------------\n",
        "#identify the end of the routine\n",
        "def end_routine():\n",
        "  date_end = datetime.today().date()\n",
        "  hour_end = datetime.now()\n",
        "\n",
        "  return (date_end, hour_end)\n",
        "\n",
        "#---------------------------------------------------------------------------------\n",
        "def check_connection():\n",
        "  URL = \"https://www.google.com\"\n",
        "\n",
        "  time_out = 5\n",
        "  try:\n",
        "    requests.get(URL, timeout=time_out)\n",
        "    return True\n",
        "\n",
        "  except:\n",
        "    return False\n",
        "\n",
        "#---------------------------------------------------------------------------------\n",
        "def identify_ip():\n",
        "  try:\n",
        "    local_ip = socket.gethostbyname(socket.gethostname())\n",
        "    return local_ip\n",
        "  except:\n",
        "    return False\n",
        "\n",
        "\n",
        "#---------------------------------------------------------------------------------\n",
        "\n",
        "\n",
        "list_user = identify_user()\n",
        "list_start = start_routine()\n",
        "list_end = end_routine()\n",
        "connection_net = check_connection()\n",
        "check_ip = identify_ip()\n",
        "\n",
        "operational_error = ''"
      ],
      "metadata": {
        "id": "A8Ar2T6Fe6Il"
      },
      "execution_count": 2,
      "outputs": []
    },
    {
      "cell_type": "code",
      "source": [
        "try:\n",
        "  yf.pdr_override()\n",
        "  data_base = web.get_data_yahoo('ARZZ3.SA', start='2024-01-01') #get data\n",
        "  eixo_plot = data_base['Close']\n",
        "\n",
        "  #Configurando grafico ↓\n",
        "  plt.figure( figsize=(15,6) ) #tamanho\n",
        "  plt.style.use('ggplot') #estilo\n",
        "\n",
        "  plt.plot(eixo_plot) #plot do grafico\n",
        "\n",
        "  #labels e titulos ↓\n",
        "  plt.title(\"Analise Arezzo\") #title\n",
        "  plt.xlabel('Periodo') #Eixo X\n",
        "  plt.ylabel('Preço fechamento')#Eixo y\n",
        "\n",
        "  plt.savefig('Indicador_Ações.png') #salvando grafico em png\n",
        "\n",
        "except:\n",
        "  operational_error = 'Execution_Error'"
      ],
      "metadata": {
        "id": "dTDEZw1KzDHn"
      },
      "execution_count": null,
      "outputs": []
    },
    {
      "cell_type": "code",
      "source": [
        "#list_end = end_routine()\n",
        "dictionary = {\n",
        "    'Id Routine': routine_id,\n",
        "    'Name_Routine': routine_name,\n",
        "    'User': list_user[0],\n",
        "    'Machine': list_user[1],\n",
        "    'Operation_System': list_user[2],\n",
        "    'Date_Start': list_start[0],\n",
        "    'Hour_Start': list_user[1],\n",
        "    'Try_connection': connection_net,\n",
        "    'Local_Ip': check_ip,\n",
        "    'Date_end': list_end[0],\n",
        "    'Hour_end': list_end[1],\n",
        "    'Timex_Ex': (list_end[1] - list_start[1]),\n",
        "    'Error': operational_error\n",
        "}"
      ],
      "metadata": {
        "id": "k2oKpVxe636G"
      },
      "execution_count": 4,
      "outputs": []
    },
    {
      "cell_type": "code",
      "source": [
        "table = pd.DataFrame(dictionary, index=[0])\n",
        "table"
      ],
      "metadata": {
        "colab": {
          "base_uri": "https://localhost:8080/",
          "height": 89
        },
        "id": "sBx_dIXi66NQ",
        "outputId": "ac2f077c-e33f-4654-92f3-1a7f79cc7d96"
      },
      "execution_count": 5,
      "outputs": [
        {
          "output_type": "execute_result",
          "data": {
            "text/plain": [
              "   Id Routine                Name_Routine  User       Machine  \\\n",
              "0           1  Fluxo de dados - Corretora  None  592b370c17b0   \n",
              "\n",
              "                      Operation_System  Date_Start    Hour_Start  \\\n",
              "0  Linux-6.1.85+-x86_64-with-glibc2.35  2024-05-29  592b370c17b0   \n",
              "\n",
              "   Try_connection     Local_Ip    Date_end                   Hour_end  \\\n",
              "0            True  172.28.0.12  2024-05-29 2024-05-29 13:52:49.711396   \n",
              "\n",
              "                Timex_Ex Error  \n",
              "0 0 days 00:00:00.000076        "
            ],
            "text/html": [
              "\n",
              "  <div id=\"df-3930f462-c27b-4ccd-a5ca-50f1a81306dd\" class=\"colab-df-container\">\n",
              "    <div>\n",
              "<style scoped>\n",
              "    .dataframe tbody tr th:only-of-type {\n",
              "        vertical-align: middle;\n",
              "    }\n",
              "\n",
              "    .dataframe tbody tr th {\n",
              "        vertical-align: top;\n",
              "    }\n",
              "\n",
              "    .dataframe thead th {\n",
              "        text-align: right;\n",
              "    }\n",
              "</style>\n",
              "<table border=\"1\" class=\"dataframe\">\n",
              "  <thead>\n",
              "    <tr style=\"text-align: right;\">\n",
              "      <th></th>\n",
              "      <th>Id Routine</th>\n",
              "      <th>Name_Routine</th>\n",
              "      <th>User</th>\n",
              "      <th>Machine</th>\n",
              "      <th>Operation_System</th>\n",
              "      <th>Date_Start</th>\n",
              "      <th>Hour_Start</th>\n",
              "      <th>Try_connection</th>\n",
              "      <th>Local_Ip</th>\n",
              "      <th>Date_end</th>\n",
              "      <th>Hour_end</th>\n",
              "      <th>Timex_Ex</th>\n",
              "      <th>Error</th>\n",
              "    </tr>\n",
              "  </thead>\n",
              "  <tbody>\n",
              "    <tr>\n",
              "      <th>0</th>\n",
              "      <td>1</td>\n",
              "      <td>Fluxo de dados - Corretora</td>\n",
              "      <td>None</td>\n",
              "      <td>592b370c17b0</td>\n",
              "      <td>Linux-6.1.85+-x86_64-with-glibc2.35</td>\n",
              "      <td>2024-05-29</td>\n",
              "      <td>592b370c17b0</td>\n",
              "      <td>True</td>\n",
              "      <td>172.28.0.12</td>\n",
              "      <td>2024-05-29</td>\n",
              "      <td>2024-05-29 13:52:49.711396</td>\n",
              "      <td>0 days 00:00:00.000076</td>\n",
              "      <td></td>\n",
              "    </tr>\n",
              "  </tbody>\n",
              "</table>\n",
              "</div>\n",
              "    <div class=\"colab-df-buttons\">\n",
              "\n",
              "  <div class=\"colab-df-container\">\n",
              "    <button class=\"colab-df-convert\" onclick=\"convertToInteractive('df-3930f462-c27b-4ccd-a5ca-50f1a81306dd')\"\n",
              "            title=\"Convert this dataframe to an interactive table.\"\n",
              "            style=\"display:none;\">\n",
              "\n",
              "  <svg xmlns=\"http://www.w3.org/2000/svg\" height=\"24px\" viewBox=\"0 -960 960 960\">\n",
              "    <path d=\"M120-120v-720h720v720H120Zm60-500h600v-160H180v160Zm220 220h160v-160H400v160Zm0 220h160v-160H400v160ZM180-400h160v-160H180v160Zm440 0h160v-160H620v160ZM180-180h160v-160H180v160Zm440 0h160v-160H620v160Z\"/>\n",
              "  </svg>\n",
              "    </button>\n",
              "\n",
              "  <style>\n",
              "    .colab-df-container {\n",
              "      display:flex;\n",
              "      gap: 12px;\n",
              "    }\n",
              "\n",
              "    .colab-df-convert {\n",
              "      background-color: #E8F0FE;\n",
              "      border: none;\n",
              "      border-radius: 50%;\n",
              "      cursor: pointer;\n",
              "      display: none;\n",
              "      fill: #1967D2;\n",
              "      height: 32px;\n",
              "      padding: 0 0 0 0;\n",
              "      width: 32px;\n",
              "    }\n",
              "\n",
              "    .colab-df-convert:hover {\n",
              "      background-color: #E2EBFA;\n",
              "      box-shadow: 0px 1px 2px rgba(60, 64, 67, 0.3), 0px 1px 3px 1px rgba(60, 64, 67, 0.15);\n",
              "      fill: #174EA6;\n",
              "    }\n",
              "\n",
              "    .colab-df-buttons div {\n",
              "      margin-bottom: 4px;\n",
              "    }\n",
              "\n",
              "    [theme=dark] .colab-df-convert {\n",
              "      background-color: #3B4455;\n",
              "      fill: #D2E3FC;\n",
              "    }\n",
              "\n",
              "    [theme=dark] .colab-df-convert:hover {\n",
              "      background-color: #434B5C;\n",
              "      box-shadow: 0px 1px 3px 1px rgba(0, 0, 0, 0.15);\n",
              "      filter: drop-shadow(0px 1px 2px rgba(0, 0, 0, 0.3));\n",
              "      fill: #FFFFFF;\n",
              "    }\n",
              "  </style>\n",
              "\n",
              "    <script>\n",
              "      const buttonEl =\n",
              "        document.querySelector('#df-3930f462-c27b-4ccd-a5ca-50f1a81306dd button.colab-df-convert');\n",
              "      buttonEl.style.display =\n",
              "        google.colab.kernel.accessAllowed ? 'block' : 'none';\n",
              "\n",
              "      async function convertToInteractive(key) {\n",
              "        const element = document.querySelector('#df-3930f462-c27b-4ccd-a5ca-50f1a81306dd');\n",
              "        const dataTable =\n",
              "          await google.colab.kernel.invokeFunction('convertToInteractive',\n",
              "                                                    [key], {});\n",
              "        if (!dataTable) return;\n",
              "\n",
              "        const docLinkHtml = 'Like what you see? Visit the ' +\n",
              "          '<a target=\"_blank\" href=https://colab.research.google.com/notebooks/data_table.ipynb>data table notebook</a>'\n",
              "          + ' to learn more about interactive tables.';\n",
              "        element.innerHTML = '';\n",
              "        dataTable['output_type'] = 'display_data';\n",
              "        await google.colab.output.renderOutput(dataTable, element);\n",
              "        const docLink = document.createElement('div');\n",
              "        docLink.innerHTML = docLinkHtml;\n",
              "        element.appendChild(docLink);\n",
              "      }\n",
              "    </script>\n",
              "  </div>\n",
              "\n",
              "\n",
              "  <div id=\"id_012e13d5-8c5e-48fd-8fff-5a78aa364e30\">\n",
              "    <style>\n",
              "      .colab-df-generate {\n",
              "        background-color: #E8F0FE;\n",
              "        border: none;\n",
              "        border-radius: 50%;\n",
              "        cursor: pointer;\n",
              "        display: none;\n",
              "        fill: #1967D2;\n",
              "        height: 32px;\n",
              "        padding: 0 0 0 0;\n",
              "        width: 32px;\n",
              "      }\n",
              "\n",
              "      .colab-df-generate:hover {\n",
              "        background-color: #E2EBFA;\n",
              "        box-shadow: 0px 1px 2px rgba(60, 64, 67, 0.3), 0px 1px 3px 1px rgba(60, 64, 67, 0.15);\n",
              "        fill: #174EA6;\n",
              "      }\n",
              "\n",
              "      [theme=dark] .colab-df-generate {\n",
              "        background-color: #3B4455;\n",
              "        fill: #D2E3FC;\n",
              "      }\n",
              "\n",
              "      [theme=dark] .colab-df-generate:hover {\n",
              "        background-color: #434B5C;\n",
              "        box-shadow: 0px 1px 3px 1px rgba(0, 0, 0, 0.15);\n",
              "        filter: drop-shadow(0px 1px 2px rgba(0, 0, 0, 0.3));\n",
              "        fill: #FFFFFF;\n",
              "      }\n",
              "    </style>\n",
              "    <button class=\"colab-df-generate\" onclick=\"generateWithVariable('table')\"\n",
              "            title=\"Generate code using this dataframe.\"\n",
              "            style=\"display:none;\">\n",
              "\n",
              "  <svg xmlns=\"http://www.w3.org/2000/svg\" height=\"24px\"viewBox=\"0 0 24 24\"\n",
              "       width=\"24px\">\n",
              "    <path d=\"M7,19H8.4L18.45,9,17,7.55,7,17.6ZM5,21V16.75L18.45,3.32a2,2,0,0,1,2.83,0l1.4,1.43a1.91,1.91,0,0,1,.58,1.4,1.91,1.91,0,0,1-.58,1.4L9.25,21ZM18.45,9,17,7.55Zm-12,3A5.31,5.31,0,0,0,4.9,8.1,5.31,5.31,0,0,0,1,6.5,5.31,5.31,0,0,0,4.9,4.9,5.31,5.31,0,0,0,6.5,1,5.31,5.31,0,0,0,8.1,4.9,5.31,5.31,0,0,0,12,6.5,5.46,5.46,0,0,0,6.5,12Z\"/>\n",
              "  </svg>\n",
              "    </button>\n",
              "    <script>\n",
              "      (() => {\n",
              "      const buttonEl =\n",
              "        document.querySelector('#id_012e13d5-8c5e-48fd-8fff-5a78aa364e30 button.colab-df-generate');\n",
              "      buttonEl.style.display =\n",
              "        google.colab.kernel.accessAllowed ? 'block' : 'none';\n",
              "\n",
              "      buttonEl.onclick = () => {\n",
              "        google.colab.notebook.generateWithVariable('table');\n",
              "      }\n",
              "      })();\n",
              "    </script>\n",
              "  </div>\n",
              "\n",
              "    </div>\n",
              "  </div>\n"
            ],
            "application/vnd.google.colaboratory.intrinsic+json": {
              "type": "dataframe",
              "variable_name": "table",
              "repr_error": "Out of range float values are not JSON compliant: nan"
            }
          },
          "metadata": {},
          "execution_count": 5
        }
      ]
    },
    {
      "cell_type": "markdown",
      "source": [
        "#####test"
      ],
      "metadata": {
        "id": "HJNwExLavMLE"
      }
    },
    {
      "cell_type": "code",
      "source": [],
      "metadata": {
        "id": "FMR43HH_iwzk"
      },
      "execution_count": 5,
      "outputs": []
    },
    {
      "cell_type": "code",
      "source": [],
      "metadata": {
        "id": "DSQrsWTCf8ZS"
      },
      "execution_count": 5,
      "outputs": []
    },
    {
      "cell_type": "markdown",
      "source": [
        "#####Operacional"
      ],
      "metadata": {
        "id": "DdS7ltB0cmr-"
      }
    },
    {
      "cell_type": "markdown",
      "source": [
        "#####Finalização"
      ],
      "metadata": {
        "id": "OJbHRFN5cpzJ"
      }
    }
  ]
}